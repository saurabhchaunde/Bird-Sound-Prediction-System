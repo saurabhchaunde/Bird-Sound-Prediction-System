{
 "cells": [
  {
   "cell_type": "code",
   "execution_count": 3,
   "id": "0af0b201",
   "metadata": {
    "execution": {
     "iopub.execute_input": "2022-05-26T09:08:52.898068Z",
     "iopub.status.busy": "2022-05-26T09:08:52.897699Z",
     "iopub.status.idle": "2022-05-26T09:08:55.786740Z",
     "shell.execute_reply": "2022-05-26T09:08:55.785448Z"
    },
    "papermill": {
     "duration": 2.910754,
     "end_time": "2022-05-26T09:08:55.789154",
     "exception": false,
     "start_time": "2022-05-26T09:08:52.878400",
     "status": "completed"
    },
    "tags": []
   },
   "outputs": [],
   "source": [
    "import pandas as pd\n",
    "import os\n",
    "import librosa"
   ]
  },
  {
   "cell_type": "code",
   "execution_count": 4,
   "id": "edb932ce",
   "metadata": {},
   "outputs": [],
   "source": [
    "#pip install librosa"
   ]
  },
  {
   "cell_type": "code",
   "execution_count": 5,
   "id": "5a011beb",
   "metadata": {
    "execution": {
     "iopub.execute_input": "2022-05-26T09:08:55.824599Z",
     "iopub.status.busy": "2022-05-26T09:08:55.824162Z",
     "iopub.status.idle": "2022-05-26T09:08:55.930833Z",
     "shell.execute_reply": "2022-05-26T09:08:55.929635Z"
    },
    "papermill": {
     "duration": 0.129304,
     "end_time": "2022-05-26T09:08:55.932964",
     "exception": false,
     "start_time": "2022-05-26T09:08:55.803660",
     "status": "completed"
    },
    "tags": []
   },
   "outputs": [
    {
     "data": {
      "text/html": [
       "<div>\n",
       "<style scoped>\n",
       "    .dataframe tbody tr th:only-of-type {\n",
       "        vertical-align: middle;\n",
       "    }\n",
       "\n",
       "    .dataframe tbody tr th {\n",
       "        vertical-align: top;\n",
       "    }\n",
       "\n",
       "    .dataframe thead th {\n",
       "        text-align: right;\n",
       "    }\n",
       "</style>\n",
       "<table border=\"1\" class=\"dataframe\">\n",
       "  <thead>\n",
       "    <tr style=\"text-align: right;\">\n",
       "      <th></th>\n",
       "      <th>id</th>\n",
       "      <th>genus</th>\n",
       "      <th>species</th>\n",
       "      <th>subspecies</th>\n",
       "      <th>name</th>\n",
       "      <th>recordist</th>\n",
       "      <th>country</th>\n",
       "      <th>location</th>\n",
       "      <th>latitude</th>\n",
       "      <th>longitude</th>\n",
       "      <th>altitude</th>\n",
       "      <th>sound_type</th>\n",
       "      <th>source_url</th>\n",
       "      <th>license</th>\n",
       "      <th>time</th>\n",
       "      <th>date</th>\n",
       "      <th>remarks</th>\n",
       "      <th>filename</th>\n",
       "    </tr>\n",
       "  </thead>\n",
       "  <tbody>\n",
       "    <tr>\n",
       "      <th>0</th>\n",
       "      <td>557838</td>\n",
       "      <td>Thryomanes</td>\n",
       "      <td>bewickii</td>\n",
       "      <td>NaN</td>\n",
       "      <td>Bewick's Wren</td>\n",
       "      <td>Whitney Neufeld-Kaiser</td>\n",
       "      <td>United States</td>\n",
       "      <td>Arlington, Snohomish County, Washington</td>\n",
       "      <td>48.0708</td>\n",
       "      <td>-122.1006</td>\n",
       "      <td>100</td>\n",
       "      <td>adult, sex uncertain, song</td>\n",
       "      <td>//www.xeno-canto.org/557838</td>\n",
       "      <td>//creativecommons.org/licenses/by-nc-sa/4.0/</td>\n",
       "      <td>11:51</td>\n",
       "      <td>2020-03-14</td>\n",
       "      <td>Recorded with Voice Record Pro on iPhone7, nor...</td>\n",
       "      <td>557838-0.wav</td>\n",
       "    </tr>\n",
       "    <tr>\n",
       "      <th>1</th>\n",
       "      <td>557838</td>\n",
       "      <td>Thryomanes</td>\n",
       "      <td>bewickii</td>\n",
       "      <td>NaN</td>\n",
       "      <td>Bewick's Wren</td>\n",
       "      <td>Whitney Neufeld-Kaiser</td>\n",
       "      <td>United States</td>\n",
       "      <td>Arlington, Snohomish County, Washington</td>\n",
       "      <td>48.0708</td>\n",
       "      <td>-122.1006</td>\n",
       "      <td>100</td>\n",
       "      <td>adult, sex uncertain, song</td>\n",
       "      <td>//www.xeno-canto.org/557838</td>\n",
       "      <td>//creativecommons.org/licenses/by-nc-sa/4.0/</td>\n",
       "      <td>11:51</td>\n",
       "      <td>2020-03-14</td>\n",
       "      <td>Recorded with Voice Record Pro on iPhone7, nor...</td>\n",
       "      <td>557838-1.wav</td>\n",
       "    </tr>\n",
       "    <tr>\n",
       "      <th>2</th>\n",
       "      <td>557838</td>\n",
       "      <td>Thryomanes</td>\n",
       "      <td>bewickii</td>\n",
       "      <td>NaN</td>\n",
       "      <td>Bewick's Wren</td>\n",
       "      <td>Whitney Neufeld-Kaiser</td>\n",
       "      <td>United States</td>\n",
       "      <td>Arlington, Snohomish County, Washington</td>\n",
       "      <td>48.0708</td>\n",
       "      <td>-122.1006</td>\n",
       "      <td>100</td>\n",
       "      <td>adult, sex uncertain, song</td>\n",
       "      <td>//www.xeno-canto.org/557838</td>\n",
       "      <td>//creativecommons.org/licenses/by-nc-sa/4.0/</td>\n",
       "      <td>11:51</td>\n",
       "      <td>2020-03-14</td>\n",
       "      <td>Recorded with Voice Record Pro on iPhone7, nor...</td>\n",
       "      <td>557838-4.wav</td>\n",
       "    </tr>\n",
       "    <tr>\n",
       "      <th>3</th>\n",
       "      <td>557838</td>\n",
       "      <td>Thryomanes</td>\n",
       "      <td>bewickii</td>\n",
       "      <td>NaN</td>\n",
       "      <td>Bewick's Wren</td>\n",
       "      <td>Whitney Neufeld-Kaiser</td>\n",
       "      <td>United States</td>\n",
       "      <td>Arlington, Snohomish County, Washington</td>\n",
       "      <td>48.0708</td>\n",
       "      <td>-122.1006</td>\n",
       "      <td>100</td>\n",
       "      <td>adult, sex uncertain, song</td>\n",
       "      <td>//www.xeno-canto.org/557838</td>\n",
       "      <td>//creativecommons.org/licenses/by-nc-sa/4.0/</td>\n",
       "      <td>11:51</td>\n",
       "      <td>2020-03-14</td>\n",
       "      <td>Recorded with Voice Record Pro on iPhone7, nor...</td>\n",
       "      <td>557838-5.wav</td>\n",
       "    </tr>\n",
       "    <tr>\n",
       "      <th>4</th>\n",
       "      <td>557838</td>\n",
       "      <td>Thryomanes</td>\n",
       "      <td>bewickii</td>\n",
       "      <td>NaN</td>\n",
       "      <td>Bewick's Wren</td>\n",
       "      <td>Whitney Neufeld-Kaiser</td>\n",
       "      <td>United States</td>\n",
       "      <td>Arlington, Snohomish County, Washington</td>\n",
       "      <td>48.0708</td>\n",
       "      <td>-122.1006</td>\n",
       "      <td>100</td>\n",
       "      <td>adult, sex uncertain, song</td>\n",
       "      <td>//www.xeno-canto.org/557838</td>\n",
       "      <td>//creativecommons.org/licenses/by-nc-sa/4.0/</td>\n",
       "      <td>11:51</td>\n",
       "      <td>2020-03-14</td>\n",
       "      <td>Recorded with Voice Record Pro on iPhone7, nor...</td>\n",
       "      <td>557838-6.wav</td>\n",
       "    </tr>\n",
       "  </tbody>\n",
       "</table>\n",
       "</div>"
      ],
      "text/plain": [
       "       id       genus   species subspecies           name  \\\n",
       "0  557838  Thryomanes  bewickii        NaN  Bewick's Wren   \n",
       "1  557838  Thryomanes  bewickii        NaN  Bewick's Wren   \n",
       "2  557838  Thryomanes  bewickii        NaN  Bewick's Wren   \n",
       "3  557838  Thryomanes  bewickii        NaN  Bewick's Wren   \n",
       "4  557838  Thryomanes  bewickii        NaN  Bewick's Wren   \n",
       "\n",
       "                recordist        country  \\\n",
       "0  Whitney Neufeld-Kaiser  United States   \n",
       "1  Whitney Neufeld-Kaiser  United States   \n",
       "2  Whitney Neufeld-Kaiser  United States   \n",
       "3  Whitney Neufeld-Kaiser  United States   \n",
       "4  Whitney Neufeld-Kaiser  United States   \n",
       "\n",
       "                                  location  latitude  longitude altitude  \\\n",
       "0  Arlington, Snohomish County, Washington   48.0708  -122.1006      100   \n",
       "1  Arlington, Snohomish County, Washington   48.0708  -122.1006      100   \n",
       "2  Arlington, Snohomish County, Washington   48.0708  -122.1006      100   \n",
       "3  Arlington, Snohomish County, Washington   48.0708  -122.1006      100   \n",
       "4  Arlington, Snohomish County, Washington   48.0708  -122.1006      100   \n",
       "\n",
       "                   sound_type                   source_url  \\\n",
       "0  adult, sex uncertain, song  //www.xeno-canto.org/557838   \n",
       "1  adult, sex uncertain, song  //www.xeno-canto.org/557838   \n",
       "2  adult, sex uncertain, song  //www.xeno-canto.org/557838   \n",
       "3  adult, sex uncertain, song  //www.xeno-canto.org/557838   \n",
       "4  adult, sex uncertain, song  //www.xeno-canto.org/557838   \n",
       "\n",
       "                                        license   time        date  \\\n",
       "0  //creativecommons.org/licenses/by-nc-sa/4.0/  11:51  2020-03-14   \n",
       "1  //creativecommons.org/licenses/by-nc-sa/4.0/  11:51  2020-03-14   \n",
       "2  //creativecommons.org/licenses/by-nc-sa/4.0/  11:51  2020-03-14   \n",
       "3  //creativecommons.org/licenses/by-nc-sa/4.0/  11:51  2020-03-14   \n",
       "4  //creativecommons.org/licenses/by-nc-sa/4.0/  11:51  2020-03-14   \n",
       "\n",
       "                                             remarks      filename  \n",
       "0  Recorded with Voice Record Pro on iPhone7, nor...  557838-0.wav  \n",
       "1  Recorded with Voice Record Pro on iPhone7, nor...  557838-1.wav  \n",
       "2  Recorded with Voice Record Pro on iPhone7, nor...  557838-4.wav  \n",
       "3  Recorded with Voice Record Pro on iPhone7, nor...  557838-5.wav  \n",
       "4  Recorded with Voice Record Pro on iPhone7, nor...  557838-6.wav  "
      ]
     },
     "execution_count": 5,
     "metadata": {},
     "output_type": "execute_result"
    }
   ],
   "source": [
    "\n",
    "\n",
    "audio_dataset_path='C:/Users/DELL/Desktop/birds_classification/wavfiles/'                    #change the path \n",
    "metadata=pd.read_csv('C:/Users/DELL/Desktop/birds_classification/bird_songs_metadata.csv')\n",
    "metadata.head()"
   ]
  },
  {
   "cell_type": "code",
   "execution_count": 6,
   "id": "a6ec567c",
   "metadata": {
    "execution": {
     "iopub.execute_input": "2022-05-26T09:08:55.970434Z",
     "iopub.status.busy": "2022-05-26T09:08:55.969856Z",
     "iopub.status.idle": "2022-05-26T09:08:55.984779Z",
     "shell.execute_reply": "2022-05-26T09:08:55.983904Z"
    },
    "papermill": {
     "duration": 0.040138,
     "end_time": "2022-05-26T09:08:55.987412",
     "exception": false,
     "start_time": "2022-05-26T09:08:55.947274",
     "status": "completed"
    },
    "tags": []
   },
   "outputs": [
    {
     "data": {
      "text/plain": [
       "Song Sparrow            1256\n",
       "Northern Mockingbird    1182\n",
       "Northern Cardinal       1074\n",
       "American Robin          1017\n",
       "Bewick's Wren            893\n",
       "Name: name, dtype: int64"
      ]
     },
     "execution_count": 6,
     "metadata": {},
     "output_type": "execute_result"
    }
   ],
   "source": [
    "metadata['name'].value_counts()\n"
   ]
  },
  {
   "cell_type": "code",
   "execution_count": 7,
   "id": "68d73949",
   "metadata": {
    "execution": {
     "iopub.execute_input": "2022-05-26T09:08:56.029559Z",
     "iopub.status.busy": "2022-05-26T09:08:56.028971Z",
     "iopub.status.idle": "2022-05-26T09:08:56.036264Z",
     "shell.execute_reply": "2022-05-26T09:08:56.034661Z"
    },
    "papermill": {
     "duration": 0.031617,
     "end_time": "2022-05-26T09:08:56.039274",
     "exception": false,
     "start_time": "2022-05-26T09:08:56.007657",
     "status": "completed"
    },
    "tags": []
   },
   "outputs": [],
   "source": [
    "def features_extractor(file):\n",
    "    audio, sample_rate = librosa.load(file_name, res_type='kaiser_fast') \n",
    "    mfccs_features = librosa.feature.mfcc(y=audio, sr=sample_rate, n_mfcc=40)\n",
    "    mfccs_scaled_features = np.mean(mfccs_features.T,axis=0)\n",
    "    \n",
    "    return mfccs_scaled_features"
   ]
  },
  {
   "cell_type": "code",
   "execution_count": 8,
   "id": "31faa64e",
   "metadata": {
    "execution": {
     "iopub.execute_input": "2022-05-26T09:08:56.076454Z",
     "iopub.status.busy": "2022-05-26T09:08:56.076042Z",
     "iopub.status.idle": "2022-05-26T09:11:15.645602Z",
     "shell.execute_reply": "2022-05-26T09:11:15.642590Z"
    },
    "papermill": {
     "duration": 139.597066,
     "end_time": "2022-05-26T09:11:15.651138",
     "exception": false,
     "start_time": "2022-05-26T09:08:56.054072",
     "status": "completed"
    },
    "tags": []
   },
   "outputs": [
    {
     "name": "stderr",
     "output_type": "stream",
     "text": [
      "5422it [05:01, 17.96it/s]\n"
     ]
    }
   ],
   "source": [
    "import numpy as np\n",
    "from tqdm import tqdm\n",
    "### Now we iterate through every audio file and extract features \n",
    "### using Mel-Frequency Cepstral Coefficients\n",
    "extracted_features=[]\n",
    "for index_num,row in tqdm(metadata.iterrows()):\n",
    "    file_name = os.path.join(os.path.abspath(audio_dataset_path),str(row[\"filename\"]))\n",
    "    final_class_labels=row[\"name\"]\n",
    "    data=features_extractor(file_name)\n",
    "    extracted_features.append([data,final_class_labels])"
   ]
  },
  {
   "cell_type": "code",
   "execution_count": 9,
   "id": "79149822",
   "metadata": {
    "execution": {
     "iopub.execute_input": "2022-05-26T09:11:15.830087Z",
     "iopub.status.busy": "2022-05-26T09:11:15.829672Z",
     "iopub.status.idle": "2022-05-26T09:11:15.882315Z",
     "shell.execute_reply": "2022-05-26T09:11:15.881146Z"
    },
    "papermill": {
     "duration": 0.133365,
     "end_time": "2022-05-26T09:11:15.884900",
     "exception": false,
     "start_time": "2022-05-26T09:11:15.751535",
     "status": "completed"
    },
    "tags": []
   },
   "outputs": [
    {
     "data": {
      "text/html": [
       "<div>\n",
       "<style scoped>\n",
       "    .dataframe tbody tr th:only-of-type {\n",
       "        vertical-align: middle;\n",
       "    }\n",
       "\n",
       "    .dataframe tbody tr th {\n",
       "        vertical-align: top;\n",
       "    }\n",
       "\n",
       "    .dataframe thead th {\n",
       "        text-align: right;\n",
       "    }\n",
       "</style>\n",
       "<table border=\"1\" class=\"dataframe\">\n",
       "  <thead>\n",
       "    <tr style=\"text-align: right;\">\n",
       "      <th></th>\n",
       "      <th>feature</th>\n",
       "      <th>name</th>\n",
       "    </tr>\n",
       "  </thead>\n",
       "  <tbody>\n",
       "    <tr>\n",
       "      <th>0</th>\n",
       "      <td>[-132.85225, 81.1399, 17.018223, 54.974297, -1...</td>\n",
       "      <td>Bewick's Wren</td>\n",
       "    </tr>\n",
       "    <tr>\n",
       "      <th>1</th>\n",
       "      <td>[-147.74393, 99.42544, 20.885643, 44.11881, 1....</td>\n",
       "      <td>Bewick's Wren</td>\n",
       "    </tr>\n",
       "    <tr>\n",
       "      <th>2</th>\n",
       "      <td>[-92.42778, 84.10635, 17.36278, 53.86046, -8.7...</td>\n",
       "      <td>Bewick's Wren</td>\n",
       "    </tr>\n",
       "    <tr>\n",
       "      <th>3</th>\n",
       "      <td>[-93.07557, 81.17431, 16.225544, 52.08842, -8....</td>\n",
       "      <td>Bewick's Wren</td>\n",
       "    </tr>\n",
       "    <tr>\n",
       "      <th>4</th>\n",
       "      <td>[-107.95914, 92.416, 17.773254, 43.13245, -1.8...</td>\n",
       "      <td>Bewick's Wren</td>\n",
       "    </tr>\n",
       "  </tbody>\n",
       "</table>\n",
       "</div>"
      ],
      "text/plain": [
       "                                             feature           name\n",
       "0  [-132.85225, 81.1399, 17.018223, 54.974297, -1...  Bewick's Wren\n",
       "1  [-147.74393, 99.42544, 20.885643, 44.11881, 1....  Bewick's Wren\n",
       "2  [-92.42778, 84.10635, 17.36278, 53.86046, -8.7...  Bewick's Wren\n",
       "3  [-93.07557, 81.17431, 16.225544, 52.08842, -8....  Bewick's Wren\n",
       "4  [-107.95914, 92.416, 17.773254, 43.13245, -1.8...  Bewick's Wren"
      ]
     },
     "execution_count": 9,
     "metadata": {},
     "output_type": "execute_result"
    }
   ],
   "source": [
    "extracted_features_df=pd.DataFrame(extracted_features,columns=['feature','name'])\n",
    "extracted_features_df.head()\n",
    "# Storing the dataframe to pickle for further processing\n",
    "extracted_features_df.to_pickle(\"extracted_df.pkl\")\n",
    "extracted_features_df.head()"
   ]
  },
  {
   "cell_type": "code",
   "execution_count": 10,
   "id": "b5abe14a",
   "metadata": {
    "execution": {
     "iopub.execute_input": "2022-05-26T09:11:16.128845Z",
     "iopub.status.busy": "2022-05-26T09:11:16.128435Z",
     "iopub.status.idle": "2022-05-26T09:11:16.154901Z",
     "shell.execute_reply": "2022-05-26T09:11:16.153429Z"
    },
    "papermill": {
     "duration": 0.151036,
     "end_time": "2022-05-26T09:11:16.157609",
     "exception": false,
     "start_time": "2022-05-26T09:11:16.006573",
     "status": "completed"
    },
    "tags": []
   },
   "outputs": [],
   "source": [
    "final = pd.read_pickle(\"./extracted_df.pkl\")\n",
    "X = np.array(final[\"feature\"].tolist())\n",
    "y = np.array(final[\"name\"].tolist())"
   ]
  },
  {
   "cell_type": "code",
   "execution_count": 11,
   "id": "40fb578a",
   "metadata": {
    "execution": {
     "iopub.execute_input": "2022-05-26T09:11:16.308331Z",
     "iopub.status.busy": "2022-05-26T09:11:16.308009Z",
     "iopub.status.idle": "2022-05-26T09:11:23.865856Z",
     "shell.execute_reply": "2022-05-26T09:11:23.864559Z"
    },
    "papermill": {
     "duration": 7.635482,
     "end_time": "2022-05-26T09:11:23.868441",
     "exception": false,
     "start_time": "2022-05-26T09:11:16.232959",
     "status": "completed"
    },
    "tags": []
   },
   "outputs": [],
   "source": [
    "        import IPython.display as ipd\n",
    "        import librosa\n",
    "        import librosa.display\n",
    "        import pandas as pd\n",
    "        import os, time, warnings\n",
    "        import seaborn as sns\n",
    "        import numpy as np\n",
    "        from tqdm import tqdm\n",
    "        import matplotlib.pyplot as plt\n",
    "        from sklearn.model_selection import train_test_split\n",
    "        from sklearn.preprocessing import LabelEncoder\n",
    "        from tensorflow.keras.utils import to_categorical\n",
    "        from tensorflow.keras.models import Sequential\n",
    "        from tensorflow.keras.layers import (\n",
    "            Dense,\n",
    "            Conv1D,\n",
    "            MaxPooling1D,\n",
    "            BatchNormalization,\n",
    "            Dropout, \n",
    "            Flatten,\n",
    "            Conv2D,\n",
    "            MaxPool2D,\n",
    "        )"
   ]
  },
  {
   "cell_type": "code",
   "execution_count": 12,
   "id": "8ef0d2ea",
   "metadata": {
    "execution": {
     "iopub.execute_input": "2022-05-26T09:11:24.126567Z",
     "iopub.status.busy": "2022-05-26T09:11:24.125422Z",
     "iopub.status.idle": "2022-05-26T09:11:24.135193Z",
     "shell.execute_reply": "2022-05-26T09:11:24.133948Z"
    },
    "papermill": {
     "duration": 0.141638,
     "end_time": "2022-05-26T09:11:24.137129",
     "exception": false,
     "start_time": "2022-05-26T09:11:23.995491",
     "status": "completed"
    },
    "tags": []
   },
   "outputs": [],
   "source": [
    "le = LabelEncoder()\n",
    "\n",
    "# transform each category with it's respected label\n",
    "Y = to_categorical(le.fit_transform(y))\n"
   ]
  },
  {
   "cell_type": "code",
   "execution_count": 13,
   "id": "47a6f2a6",
   "metadata": {
    "execution": {
     "iopub.execute_input": "2022-05-26T09:11:24.431316Z",
     "iopub.status.busy": "2022-05-26T09:11:24.430810Z",
     "iopub.status.idle": "2022-05-26T09:11:24.439025Z",
     "shell.execute_reply": "2022-05-26T09:11:24.437667Z"
    },
    "papermill": {
     "duration": 0.141086,
     "end_time": "2022-05-26T09:11:24.442781",
     "exception": false,
     "start_time": "2022-05-26T09:11:24.301695",
     "status": "completed"
    },
    "tags": []
   },
   "outputs": [
    {
     "name": "stdout",
     "output_type": "stream",
     "text": [
      "Number of training samples =  4879\n",
      "Number of testing samples =  543\n"
     ]
    }
   ],
   "source": [
    "X_train, X_test, y_train, y_test = train_test_split(\n",
    "    X, Y, test_size=0.1, random_state=42\n",
    ")\n",
    "\n",
    "# print the details\n",
    "print(\"Number of training samples = \", X_train.shape[0])\n",
    "print(\"Number of testing samples = \", X_test.shape[0])\n"
   ]
  },
  {
   "cell_type": "code",
   "execution_count": 14,
   "id": "dc6edc9a",
   "metadata": {
    "execution": {
     "iopub.execute_input": "2022-05-26T09:11:24.701067Z",
     "iopub.status.busy": "2022-05-26T09:11:24.700700Z",
     "iopub.status.idle": "2022-05-26T09:11:24.901961Z",
     "shell.execute_reply": "2022-05-26T09:11:24.900816Z"
    },
    "papermill": {
     "duration": 0.331911,
     "end_time": "2022-05-26T09:11:24.904529",
     "exception": false,
     "start_time": "2022-05-26T09:11:24.572618",
     "status": "completed"
    },
    "tags": []
   },
   "outputs": [
    {
     "name": "stdout",
     "output_type": "stream",
     "text": [
      "Model: \"sequential\"\n",
      "_________________________________________________________________\n",
      " Layer (type)                Output Shape              Param #   \n",
      "=================================================================\n",
      " dense (Dense)               (None, 1000)              41000     \n",
      "                                                                 \n",
      " dense_1 (Dense)             (None, 750)               750750    \n",
      "                                                                 \n",
      " dense_2 (Dense)             (None, 500)               375500    \n",
      "                                                                 \n",
      " dense_3 (Dense)             (None, 250)               125250    \n",
      "                                                                 \n",
      " dense_4 (Dense)             (None, 100)               25100     \n",
      "                                                                 \n",
      " dense_5 (Dense)             (None, 50)                5050      \n",
      "                                                                 \n",
      " dense_6 (Dense)             (None, 5)                 255       \n",
      "                                                                 \n",
      "=================================================================\n",
      "Total params: 1,322,905\n",
      "Trainable params: 1,322,905\n",
      "Non-trainable params: 0\n",
      "_________________________________________________________________\n"
     ]
    }
   ],
   "source": [
    "\n",
    "num_labels = Y.shape[1]\n",
    "ANN_Model = Sequential()\n",
    "ANN_Model.add(Dense(1000, activation=\"relu\", input_shape=(40,)))\n",
    "ANN_Model.add(Dense(750, activation=\"relu\"))\n",
    "ANN_Model.add(Dense(500, activation=\"relu\"))\n",
    "ANN_Model.add(Dense(250, activation=\"relu\"))\n",
    "ANN_Model.add(Dense(100, activation=\"relu\"))\n",
    "ANN_Model.add(Dense(50, activation=\"relu\"))\n",
    "ANN_Model.add(Dense(num_labels, activation=\"softmax\"))\n",
    "ANN_Model.summary()"
   ]
  },
  {
   "cell_type": "code",
   "execution_count": 17,
   "id": "4768f6c2",
   "metadata": {
    "execution": {
     "iopub.execute_input": "2022-05-26T09:11:25.093704Z",
     "iopub.status.busy": "2022-05-26T09:11:25.093101Z",
     "iopub.status.idle": "2022-05-26T09:11:25.108736Z",
     "shell.execute_reply": "2022-05-26T09:11:25.107435Z"
    },
    "papermill": {
     "duration": 0.112704,
     "end_time": "2022-05-26T09:11:25.111071",
     "exception": false,
     "start_time": "2022-05-26T09:11:24.998367",
     "status": "completed"
    },
    "tags": []
   },
   "outputs": [],
   "source": [
    "ANN_Model.compile(loss='categorical_crossentropy',metrics=['accuracy'],optimizer='adam')\n"
   ]
  },
  {
   "cell_type": "code",
   "execution_count": 18,
   "id": "f3e01ae2",
   "metadata": {
    "execution": {
     "iopub.execute_input": "2022-05-26T09:11:25.294126Z",
     "iopub.status.busy": "2022-05-26T09:11:25.293229Z",
     "iopub.status.idle": "2022-05-26T09:19:01.159324Z",
     "shell.execute_reply": "2022-05-26T09:19:01.156802Z"
    },
    "papermill": {
     "duration": 455.959328,
     "end_time": "2022-05-26T09:19:01.162060",
     "exception": false,
     "start_time": "2022-05-26T09:11:25.202732",
     "status": "completed"
    },
    "tags": []
   },
   "outputs": [
    {
     "name": "stdout",
     "output_type": "stream",
     "text": [
      "Epoch 1/100\n",
      "153/153 [==============================] - 6s 34ms/step - loss: 0.0313 - accuracy: 0.9947 - val_loss: 0.3390 - val_accuracy: 0.9411\n",
      "Epoch 2/100\n",
      "153/153 [==============================] - 5s 32ms/step - loss: 0.0533 - accuracy: 0.9861 - val_loss: 0.3398 - val_accuracy: 0.9613\n",
      "Epoch 3/100\n",
      "153/153 [==============================] - 5s 35ms/step - loss: 0.0132 - accuracy: 0.9959 - val_loss: 0.4515 - val_accuracy: 0.9484\n",
      "Epoch 4/100\n",
      "153/153 [==============================] - 5s 35ms/step - loss: 0.0510 - accuracy: 0.9906 - val_loss: 0.1699 - val_accuracy: 0.9687\n",
      "Epoch 5/100\n",
      "153/153 [==============================] - 6s 37ms/step - loss: 0.0282 - accuracy: 0.9922 - val_loss: 0.1541 - val_accuracy: 0.9705\n",
      "Epoch 6/100\n",
      "153/153 [==============================] - 5s 34ms/step - loss: 0.0734 - accuracy: 0.9840 - val_loss: 0.2313 - val_accuracy: 0.9429\n",
      "Epoch 7/100\n",
      "153/153 [==============================] - 5s 36ms/step - loss: 0.0284 - accuracy: 0.9953 - val_loss: 0.1884 - val_accuracy: 0.9650\n",
      "Epoch 8/100\n",
      "153/153 [==============================] - 6s 38ms/step - loss: 0.0122 - accuracy: 0.9963 - val_loss: 0.1846 - val_accuracy: 0.9761\n",
      "Epoch 9/100\n",
      "153/153 [==============================] - 5s 36ms/step - loss: 0.0104 - accuracy: 0.9994 - val_loss: 0.2408 - val_accuracy: 0.9742\n",
      "Epoch 10/100\n",
      "153/153 [==============================] - 6s 36ms/step - loss: 0.0531 - accuracy: 0.9918 - val_loss: 0.1684 - val_accuracy: 0.9466\n",
      "Epoch 11/100\n",
      "153/153 [==============================] - 5s 34ms/step - loss: 0.0310 - accuracy: 0.9920 - val_loss: 0.1847 - val_accuracy: 0.9558\n",
      "Epoch 12/100\n",
      "153/153 [==============================] - 6s 38ms/step - loss: 0.0317 - accuracy: 0.9928 - val_loss: 0.2030 - val_accuracy: 0.9595\n",
      "Epoch 13/100\n",
      "153/153 [==============================] - 6s 40ms/step - loss: 0.0132 - accuracy: 0.9975 - val_loss: 0.2923 - val_accuracy: 0.9558\n",
      "Epoch 14/100\n",
      "153/153 [==============================] - 6s 41ms/step - loss: 0.0527 - accuracy: 0.9920 - val_loss: 0.2027 - val_accuracy: 0.9558\n",
      "Epoch 15/100\n",
      "153/153 [==============================] - 6s 40ms/step - loss: 0.0893 - accuracy: 0.9846 - val_loss: 0.2085 - val_accuracy: 0.9540\n",
      "Epoch 16/100\n",
      "153/153 [==============================] - 6s 37ms/step - loss: 0.0380 - accuracy: 0.9906 - val_loss: 0.1071 - val_accuracy: 0.9705\n",
      "Epoch 17/100\n",
      "153/153 [==============================] - 6s 37ms/step - loss: 0.0065 - accuracy: 0.9980 - val_loss: 0.1634 - val_accuracy: 0.9705\n",
      "Epoch 18/100\n",
      "153/153 [==============================] - 6s 40ms/step - loss: 0.0022 - accuracy: 0.9992 - val_loss: 0.1729 - val_accuracy: 0.9687\n",
      "Epoch 19/100\n",
      "153/153 [==============================] - 6s 37ms/step - loss: 5.7114e-05 - accuracy: 1.0000 - val_loss: 0.1832 - val_accuracy: 0.9687\n",
      "Epoch 20/100\n",
      "153/153 [==============================] - 6s 38ms/step - loss: 2.7714e-05 - accuracy: 1.0000 - val_loss: 0.1983 - val_accuracy: 0.9669\n",
      "Epoch 21/100\n",
      "153/153 [==============================] - 6s 39ms/step - loss: 1.6429e-05 - accuracy: 1.0000 - val_loss: 0.2151 - val_accuracy: 0.9650\n",
      "Epoch 22/100\n",
      "153/153 [==============================] - 7s 43ms/step - loss: 9.4856e-06 - accuracy: 1.0000 - val_loss: 0.2311 - val_accuracy: 0.9650\n",
      "Epoch 23/100\n",
      "153/153 [==============================] - 7s 43ms/step - loss: 5.7793e-06 - accuracy: 1.0000 - val_loss: 0.2411 - val_accuracy: 0.9650\n",
      "Epoch 24/100\n",
      "153/153 [==============================] - 6s 37ms/step - loss: 4.0042e-06 - accuracy: 1.0000 - val_loss: 0.2494 - val_accuracy: 0.9650\n",
      "Epoch 25/100\n",
      "153/153 [==============================] - 6s 37ms/step - loss: 2.9400e-06 - accuracy: 1.0000 - val_loss: 0.2556 - val_accuracy: 0.9650\n",
      "Epoch 26/100\n",
      "153/153 [==============================] - 5s 36ms/step - loss: 2.2283e-06 - accuracy: 1.0000 - val_loss: 0.2618 - val_accuracy: 0.9669\n",
      "Epoch 27/100\n",
      "153/153 [==============================] - 6s 37ms/step - loss: 1.7320e-06 - accuracy: 1.0000 - val_loss: 0.2679 - val_accuracy: 0.9669\n",
      "Epoch 28/100\n",
      "153/153 [==============================] - 6s 36ms/step - loss: 1.3531e-06 - accuracy: 1.0000 - val_loss: 0.2738 - val_accuracy: 0.9650\n",
      "Epoch 29/100\n",
      "153/153 [==============================] - 5s 35ms/step - loss: 1.0893e-06 - accuracy: 1.0000 - val_loss: 0.2797 - val_accuracy: 0.9650\n",
      "Epoch 30/100\n",
      "153/153 [==============================] - 5s 35ms/step - loss: 8.9478e-07 - accuracy: 1.0000 - val_loss: 0.2858 - val_accuracy: 0.9650\n",
      "Epoch 31/100\n",
      "153/153 [==============================] - 6s 37ms/step - loss: 7.4830e-07 - accuracy: 1.0000 - val_loss: 0.2918 - val_accuracy: 0.9650\n",
      "Epoch 32/100\n",
      "153/153 [==============================] - 6s 36ms/step - loss: 6.3149e-07 - accuracy: 1.0000 - val_loss: 0.2981 - val_accuracy: 0.9650\n",
      "Epoch 33/100\n",
      "153/153 [==============================] - 6s 38ms/step - loss: 5.3621e-07 - accuracy: 1.0000 - val_loss: 0.3034 - val_accuracy: 0.9650\n",
      "Epoch 34/100\n",
      "153/153 [==============================] - 6s 37ms/step - loss: 4.5791e-07 - accuracy: 1.0000 - val_loss: 0.3098 - val_accuracy: 0.9650\n",
      "Epoch 35/100\n",
      "153/153 [==============================] - 5s 36ms/step - loss: 3.9246e-07 - accuracy: 1.0000 - val_loss: 0.3174 - val_accuracy: 0.9650\n",
      "Epoch 36/100\n",
      "153/153 [==============================] - 4s 29ms/step - loss: 3.3832e-07 - accuracy: 1.0000 - val_loss: 0.3244 - val_accuracy: 0.9650\n",
      "Epoch 37/100\n",
      "153/153 [==============================] - 4s 28ms/step - loss: 2.9319e-07 - accuracy: 1.0000 - val_loss: 0.3303 - val_accuracy: 0.9650\n",
      "Epoch 38/100\n",
      "153/153 [==============================] - 4s 28ms/step - loss: 2.5583e-07 - accuracy: 1.0000 - val_loss: 0.3357 - val_accuracy: 0.9650\n",
      "Epoch 39/100\n",
      "153/153 [==============================] - 4s 29ms/step - loss: 2.2505e-07 - accuracy: 1.0000 - val_loss: 0.3408 - val_accuracy: 0.9650\n",
      "Epoch 40/100\n",
      "153/153 [==============================] - 5s 30ms/step - loss: 1.9834e-07 - accuracy: 1.0000 - val_loss: 0.3454 - val_accuracy: 0.9650\n",
      "Epoch 41/100\n",
      "153/153 [==============================] - 4s 28ms/step - loss: 1.7560e-07 - accuracy: 1.0000 - val_loss: 0.3497 - val_accuracy: 0.9650\n",
      "Epoch 42/100\n",
      "153/153 [==============================] - 4s 28ms/step - loss: 1.5561e-07 - accuracy: 1.0000 - val_loss: 0.3539 - val_accuracy: 0.9650\n",
      "Epoch 43/100\n",
      "153/153 [==============================] - 4s 29ms/step - loss: 1.3849e-07 - accuracy: 1.0000 - val_loss: 0.3579 - val_accuracy: 0.9650\n",
      "Epoch 44/100\n",
      "153/153 [==============================] - 5s 33ms/step - loss: 1.2329e-07 - accuracy: 1.0000 - val_loss: 0.3617 - val_accuracy: 0.9650\n",
      "Epoch 45/100\n",
      "153/153 [==============================] - 5s 33ms/step - loss: 1.0951e-07 - accuracy: 1.0000 - val_loss: 0.3651 - val_accuracy: 0.9632\n",
      "Epoch 46/100\n",
      "153/153 [==============================] - 5s 32ms/step - loss: 9.7463e-08 - accuracy: 1.0000 - val_loss: 0.3688 - val_accuracy: 0.9632\n",
      "Epoch 47/100\n",
      "153/153 [==============================] - 5s 33ms/step - loss: 8.6981e-08 - accuracy: 1.0000 - val_loss: 0.3728 - val_accuracy: 0.9650\n",
      "Epoch 48/100\n",
      "153/153 [==============================] - 5s 32ms/step - loss: 7.7575e-08 - accuracy: 1.0000 - val_loss: 0.3759 - val_accuracy: 0.9669\n",
      "Epoch 49/100\n",
      "153/153 [==============================] - 5s 32ms/step - loss: 6.9194e-08 - accuracy: 1.0000 - val_loss: 0.3795 - val_accuracy: 0.9669\n",
      "Epoch 50/100\n",
      "153/153 [==============================] - 5s 31ms/step - loss: 6.2011e-08 - accuracy: 1.0000 - val_loss: 0.3829 - val_accuracy: 0.9669\n",
      "Epoch 51/100\n",
      "153/153 [==============================] - 5s 32ms/step - loss: 5.5414e-08 - accuracy: 1.0000 - val_loss: 0.3867 - val_accuracy: 0.9669\n",
      "Epoch 52/100\n",
      "153/153 [==============================] - 5s 32ms/step - loss: 4.9086e-08 - accuracy: 1.0000 - val_loss: 0.3894 - val_accuracy: 0.9669\n",
      "Epoch 53/100\n",
      "153/153 [==============================] - 5s 32ms/step - loss: 4.3979e-08 - accuracy: 1.0000 - val_loss: 0.3921 - val_accuracy: 0.9650\n",
      "Epoch 54/100\n",
      "153/153 [==============================] - 5s 31ms/step - loss: 3.9410e-08 - accuracy: 1.0000 - val_loss: 0.3958 - val_accuracy: 0.9650\n",
      "Epoch 55/100\n",
      "153/153 [==============================] - 5s 31ms/step - loss: 3.5232e-08 - accuracy: 1.0000 - val_loss: 0.3987 - val_accuracy: 0.9650\n",
      "Epoch 56/100\n",
      "153/153 [==============================] - 5s 31ms/step - loss: 3.1763e-08 - accuracy: 1.0000 - val_loss: 0.4015 - val_accuracy: 0.9650\n",
      "Epoch 57/100\n",
      "153/153 [==============================] - 5s 31ms/step - loss: 2.8538e-08 - accuracy: 1.0000 - val_loss: 0.4046 - val_accuracy: 0.9650\n",
      "Epoch 58/100\n",
      "153/153 [==============================] - 4s 24ms/step - loss: 2.5752e-08 - accuracy: 1.0000 - val_loss: 0.4069 - val_accuracy: 0.9650\n",
      "Epoch 59/100\n",
      "153/153 [==============================] - 4s 24ms/step - loss: 2.2796e-08 - accuracy: 1.0000 - val_loss: 0.4056 - val_accuracy: 0.9687\n",
      "Epoch 60/100\n",
      "153/153 [==============================] - 4s 26ms/step - loss: 1.9717e-08 - accuracy: 1.0000 - val_loss: 0.4078 - val_accuracy: 0.9687\n",
      "Epoch 61/100\n",
      "153/153 [==============================] - 4s 24ms/step - loss: 1.6101e-08 - accuracy: 1.0000 - val_loss: 0.4100 - val_accuracy: 0.9687\n",
      "Epoch 62/100\n",
      "153/153 [==============================] - 4s 23ms/step - loss: 1.3389e-08 - accuracy: 1.0000 - val_loss: 0.4131 - val_accuracy: 0.9669\n",
      "Epoch 63/100\n",
      "153/153 [==============================] - 4s 24ms/step - loss: 1.1361e-08 - accuracy: 1.0000 - val_loss: 0.4147 - val_accuracy: 0.9669\n",
      "Epoch 64/100\n",
      "153/153 [==============================] - 5s 34ms/step - loss: 9.2357e-09 - accuracy: 1.0000 - val_loss: 0.4169 - val_accuracy: 0.9669\n",
      "Epoch 65/100\n",
      "153/153 [==============================] - 5s 35ms/step - loss: 8.1606e-09 - accuracy: 1.0000 - val_loss: 0.4187 - val_accuracy: 0.9669\n",
      "Epoch 66/100\n",
      "153/153 [==============================] - 5s 33ms/step - loss: 7.4521e-09 - accuracy: 1.0000 - val_loss: 0.4206 - val_accuracy: 0.9669\n",
      "Epoch 67/100\n",
      "153/153 [==============================] - 4s 29ms/step - loss: 6.8168e-09 - accuracy: 1.0000 - val_loss: 0.4227 - val_accuracy: 0.9669\n",
      "Epoch 68/100\n",
      "153/153 [==============================] - 4s 28ms/step - loss: 6.1816e-09 - accuracy: 1.0000 - val_loss: 0.4242 - val_accuracy: 0.9669\n",
      "Epoch 69/100\n",
      "153/153 [==============================] - 4s 28ms/step - loss: 5.5707e-09 - accuracy: 1.0000 - val_loss: 0.4260 - val_accuracy: 0.9669\n",
      "Epoch 70/100\n",
      "153/153 [==============================] - 4s 28ms/step - loss: 5.2531e-09 - accuracy: 1.0000 - val_loss: 0.4275 - val_accuracy: 0.9669\n",
      "Epoch 71/100\n",
      "153/153 [==============================] - 4s 28ms/step - loss: 4.7156e-09 - accuracy: 1.0000 - val_loss: 0.4297 - val_accuracy: 0.9669\n",
      "Epoch 72/100\n",
      "153/153 [==============================] - 4s 28ms/step - loss: 4.3980e-09 - accuracy: 1.0000 - val_loss: 0.4310 - val_accuracy: 0.9669\n",
      "Epoch 73/100\n",
      "153/153 [==============================] - 4s 29ms/step - loss: 4.1048e-09 - accuracy: 1.0000 - val_loss: 0.4330 - val_accuracy: 0.9669\n",
      "Epoch 74/100\n",
      "153/153 [==============================] - 5s 31ms/step - loss: 3.7138e-09 - accuracy: 1.0000 - val_loss: 0.4352 - val_accuracy: 0.9669\n",
      "Epoch 75/100\n",
      "153/153 [==============================] - 4s 28ms/step - loss: 3.4206e-09 - accuracy: 1.0000 - val_loss: 0.4372 - val_accuracy: 0.9669\n",
      "Epoch 76/100\n",
      "153/153 [==============================] - 4s 29ms/step - loss: 3.1519e-09 - accuracy: 1.0000 - val_loss: 0.4384 - val_accuracy: 0.9669\n",
      "Epoch 77/100\n",
      "153/153 [==============================] - 5s 30ms/step - loss: 3.0053e-09 - accuracy: 1.0000 - val_loss: 0.4399 - val_accuracy: 0.9669\n",
      "Epoch 78/100\n",
      "153/153 [==============================] - 5s 31ms/step - loss: 2.7609e-09 - accuracy: 1.0000 - val_loss: 0.4421 - val_accuracy: 0.9669\n",
      "Epoch 79/100\n",
      "153/153 [==============================] - 5s 32ms/step - loss: 2.5655e-09 - accuracy: 1.0000 - val_loss: 0.4443 - val_accuracy: 0.9669\n",
      "Epoch 80/100\n",
      "153/153 [==============================] - 5s 32ms/step - loss: 2.3700e-09 - accuracy: 1.0000 - val_loss: 0.4459 - val_accuracy: 0.9669\n",
      "Epoch 81/100\n",
      "153/153 [==============================] - 5s 33ms/step - loss: 2.1990e-09 - accuracy: 1.0000 - val_loss: 0.4477 - val_accuracy: 0.9669\n",
      "Epoch 82/100\n",
      "153/153 [==============================] - 4s 29ms/step - loss: 2.0279e-09 - accuracy: 1.0000 - val_loss: 0.4495 - val_accuracy: 0.9669\n",
      "Epoch 83/100\n",
      "153/153 [==============================] - 4s 29ms/step - loss: 1.8569e-09 - accuracy: 1.0000 - val_loss: 0.4506 - val_accuracy: 0.9669\n",
      "Epoch 84/100\n",
      "153/153 [==============================] - 5s 31ms/step - loss: 1.7103e-09 - accuracy: 1.0000 - val_loss: 0.4524 - val_accuracy: 0.9669\n",
      "Epoch 85/100\n",
      "153/153 [==============================] - 4s 29ms/step - loss: 1.5882e-09 - accuracy: 1.0000 - val_loss: 0.4538 - val_accuracy: 0.9669\n",
      "Epoch 86/100\n",
      "153/153 [==============================] - 5s 32ms/step - loss: 1.4904e-09 - accuracy: 1.0000 - val_loss: 0.4557 - val_accuracy: 0.9669\n",
      "Epoch 87/100\n",
      "153/153 [==============================] - 5s 32ms/step - loss: 1.3194e-09 - accuracy: 1.0000 - val_loss: 0.4569 - val_accuracy: 0.9669\n",
      "Epoch 88/100\n",
      "153/153 [==============================] - 5s 32ms/step - loss: 1.2217e-09 - accuracy: 1.0000 - val_loss: 0.4583 - val_accuracy: 0.9669\n",
      "Epoch 89/100\n",
      "153/153 [==============================] - 5s 32ms/step - loss: 1.1239e-09 - accuracy: 1.0000 - val_loss: 0.4595 - val_accuracy: 0.9669\n",
      "Epoch 90/100\n",
      "153/153 [==============================] - 5s 32ms/step - loss: 1.0262e-09 - accuracy: 1.0000 - val_loss: 0.4607 - val_accuracy: 0.9669\n",
      "Epoch 91/100\n",
      "153/153 [==============================] - 5s 32ms/step - loss: 1.0262e-09 - accuracy: 1.0000 - val_loss: 0.4618 - val_accuracy: 0.9669\n",
      "Epoch 92/100\n",
      "153/153 [==============================] - 5s 33ms/step - loss: 9.2846e-10 - accuracy: 1.0000 - val_loss: 0.4633 - val_accuracy: 0.9669\n",
      "Epoch 93/100\n",
      "153/153 [==============================] - 5s 34ms/step - loss: 8.7959e-10 - accuracy: 1.0000 - val_loss: 0.4643 - val_accuracy: 0.9669\n",
      "Epoch 94/100\n",
      "153/153 [==============================] - 5s 32ms/step - loss: 7.8186e-10 - accuracy: 1.0000 - val_loss: 0.4655 - val_accuracy: 0.9669\n",
      "Epoch 95/100\n",
      "153/153 [==============================] - 5s 32ms/step - loss: 7.3299e-10 - accuracy: 1.0000 - val_loss: 0.4664 - val_accuracy: 0.9669\n",
      "Epoch 96/100\n",
      "153/153 [==============================] - 5s 32ms/step - loss: 7.0856e-10 - accuracy: 1.0000 - val_loss: 0.4674 - val_accuracy: 0.9669\n",
      "Epoch 97/100\n",
      "153/153 [==============================] - 5s 32ms/step - loss: 6.5969e-10 - accuracy: 1.0000 - val_loss: 0.4682 - val_accuracy: 0.9669\n",
      "Epoch 98/100\n",
      "153/153 [==============================] - 5s 32ms/step - loss: 6.3526e-10 - accuracy: 1.0000 - val_loss: 0.4691 - val_accuracy: 0.9669\n",
      "Epoch 99/100\n",
      "153/153 [==============================] - 5s 34ms/step - loss: 5.6196e-10 - accuracy: 1.0000 - val_loss: 0.4698 - val_accuracy: 0.9669\n",
      "Epoch 100/100\n",
      "153/153 [==============================] - 5s 31ms/step - loss: 4.8866e-10 - accuracy: 1.0000 - val_loss: 0.4710 - val_accuracy: 0.9669\n",
      "ANN Model Saved\n"
     ]
    }
   ],
   "source": [
    "num_epochs = 100\n",
    "num_batch_size = 32\n",
    "\n",
    "t0 = time.time()\n",
    "\n",
    "history = ANN_Model.fit(\n",
    "    X_train,\n",
    "    y_train,\n",
    "    batch_size=num_batch_size,\n",
    "    epochs=num_epochs,\n",
    "    validation_data=(X_test, y_test),\n",
    ")\n",
    "\n",
    "ANN_Model.save(\"Model1.h5\")\n",
    "print(\"ANN Model Saved\")\n"
   ]
  },
  {
   "cell_type": "code",
   "execution_count": 19,
   "id": "6e56a044",
   "metadata": {
    "execution": {
     "iopub.execute_input": "2022-05-26T09:19:02.910974Z",
     "iopub.status.busy": "2022-05-26T09:19:02.910616Z",
     "iopub.status.idle": "2022-05-26T09:19:03.274866Z",
     "shell.execute_reply": "2022-05-26T09:19:03.273682Z"
    },
    "papermill": {
     "duration": 1.1967,
     "end_time": "2022-05-26T09:19:03.276967",
     "exception": false,
     "start_time": "2022-05-26T09:19:02.080267",
     "status": "completed"
    },
    "tags": []
   },
   "outputs": [
    {
     "data": {
      "image/png": "[encoded data removed]",
      "text/plain": [
       "<Figure size 576x576 with 2 Axes>"
      ]
     },
     "metadata": {
      "needs_background": "light"
     },
     "output_type": "display_data"
    }
   ],
   "source": [
    " acc = [0.] + history.history['accuracy']\n",
    "val_acc = [0.] + history.history['val_accuracy']\n",
    "\n",
    "loss = history.history['loss']\n",
    "val_loss = history.history['val_loss']\n",
    "\n",
    "plt.figure(figsize=(8, 8))\n",
    "plt.subplot(2, 1, 1)\n",
    "plt.plot(acc, label='Training Accuracy')\n",
    "plt.plot(val_acc, label='Validation Accuracy')\n",
    "plt.legend(loc='lower right')\n",
    "plt.ylabel('Accuracy')\n",
    "plt.title('Training and Validation Accuracy')\n",
    "\n",
    "plt.subplot(2, 1, 2)\n",
    "plt.plot(loss, label='Training Loss')\n",
    "plt.plot(val_loss, label='Validation Loss')\n",
    "plt.legend(loc='upper right')\n",
    "plt.ylabel('Cross Entropy')\n",
    "plt.title('Training and Validation Loss')\n",
    "plt.xlabel('epoch')\n",
    "plt.show()"
   ]
  },
  {
   "cell_type": "code",
   "execution_count": null,
   "id": "5ab097e0",
   "metadata": {
    "papermill": {
     "duration": 0.557929,
     "end_time": "2022-05-26T09:19:04.335461",
     "exception": false,
     "start_time": "2022-05-26T09:19:03.777532",
     "status": "completed"
    },
    "tags": []
   },
   "outputs": [],
   "source": []
  }
 ],
 "metadata": {
  "kernelspec": {
   "display_name": "Python 3",
   "language": "python",
   "name": "python3"
  },
  "language_info": {
   "codemirror_mode": {
    "name": "ipython",
    "version": 3
   },
   "file_extension": ".py",
   "mimetype": "text/x-python",
   "name": "python",
   "nbconvert_exporter": "python",
   "pygments_lexer": "ipython3",
   "version": "3.8.8"
  },
  "papermill": {
   "default_parameters": {},
   "duration": 637.476826,
   "end_time": "2022-05-26T09:19:08.383940",
   "environment_variables": {},
   "exception": null,
   "input_path": "__notebook__.ipynb",
   "output_path": "__notebook__.ipynb",
   "parameters": {},
   "start_time": "2022-05-26T09:08:30.907114",
   "version": "2.3.4"
  }
 },
 "nbformat": 4,
 "nbformat_minor": 5
}
